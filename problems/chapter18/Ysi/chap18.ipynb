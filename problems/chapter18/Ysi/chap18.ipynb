{
 "cells": [
  {
   "cell_type": "code",
   "execution_count": 7,
   "source": [
    "# 18-1\n",
    "N = 6\n",
    "V = [0,1,2,3,4,5]\n",
    "E = [(0,1), (0,2), (1,3), (1,4), (2,5)]\n",
    "\n",
    "G = [[] for _ in range(N)]\n",
    "for a, b in E:\n",
    "    G[a].append(b)\n",
    "    G[b].append(a)\n",
    "\n",
    "import sys\n",
    "sys.setrecursionlimit(500*500)\n",
    "used = [False]*N\n",
    "def dfs(v, p = -1):\n",
    "    is_child_used = False\n",
    "    for u in G[v]:\n",
    "        if u == p:\n",
    "            continue\n",
    "        dfs(u, v)\n",
    "        if used[u]:\n",
    "            is_child_used = True\n",
    "\n",
    "    if not is_child_used:\n",
    "        used[v] = True\n",
    "\n",
    "dfs(0)\n",
    "\n",
    "print(sum(used))"
   ],
   "outputs": [
    {
     "output_type": "stream",
     "name": "stdout",
     "text": [
      "4\n"
     ]
    }
   ],
   "metadata": {}
  },
  {
   "cell_type": "markdown",
   "source": [
    "# 18-3\n",
    "$$\n",
    "\\begin{aligned}\n",
    "& \\max_{x_i} && \\sum_{i \\in V} x_i \\\\\\\\\n",
    "& s.t. && \\forall i \\in V \\ x_i \\in \\{0, 1\\} \\\\\\\\\n",
    "& && \\forall e \\in E \\ \\sum_{i \\in e} x_i \\leq 1 \n",
    "\\end{aligned}\n",
    "$$"
   ],
   "metadata": {}
  },
  {
   "cell_type": "markdown",
   "source": [],
   "metadata": {}
  },
  {
   "cell_type": "markdown",
   "source": [
    "# 18-4\n",
    "- 本数の容量を無視して, a_iの容量を足し合わせた値はoptの本数よりも必ず小さい\n",
    "  $$\\sum_{i \\in N} a_i \\leq N_{opt}$$\n",
    "- $N_{greedy}$が偶数本であった場合\n",
    "  - i番目のビンに入れられた重りを$w_i$とすると, $w_i+ w_{i+1} > 1$であるから, $2(w_i + w_{i+1}) > 2$, よって,\n",
    "  $$N_{greedy} \\leq \\sum_{i \\in N} 2*a_i$$\n",
    "- $N_{greedy}$が奇数本であった場合,\n",
    "  - $N_{greedy} = 1$ならば$N_{opt} = 1$であるから\n",
    "  $$N_{greedy} \\leq 2* N_{opt}$$\n",
    "  - $N_{greedy} > 3$ならば必ず一つは0.5を超えるビンが存在するので\n",
    "  $$N_{greedy} \\leq \\sum_{i \\in N} 2*a_i$$\n",
    "- 上記不等式よりgreedyアルゴリズムはピンパッキング問題において2-近似アルゴリズムである\n",
    "  $$N_{greedy} \\leq \\sum_{i \\in N} 2 * a_i \\leq 2* N_{opt} $$"
   ],
   "metadata": {}
  },
  {
   "cell_type": "markdown",
   "source": [],
   "metadata": {}
  }
 ],
 "metadata": {
  "orig_nbformat": 4,
  "language_info": {
   "name": "python",
   "version": "3.8.10",
   "mimetype": "text/x-python",
   "codemirror_mode": {
    "name": "ipython",
    "version": 3
   },
   "pygments_lexer": "ipython3",
   "nbconvert_exporter": "python",
   "file_extension": ".py"
  },
  "kernelspec": {
   "name": "python3",
   "display_name": "Python 3.8.10 64-bit"
  },
  "interpreter": {
   "hash": "916dbcbb3f70747c44a77c7bcd40155683ae19c65e1c03b4aa3499c5328201f1"
  }
 },
 "nbformat": 4,
 "nbformat_minor": 2
}