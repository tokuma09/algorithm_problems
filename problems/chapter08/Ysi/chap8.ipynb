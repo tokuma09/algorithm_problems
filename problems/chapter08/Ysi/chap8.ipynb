{
 "cells": [
  {
   "cell_type": "markdown",
   "source": [
    "### 8-1\n",
    "O(N) 連結リストを先頭から一つずつ進み、リストのnameをprintする"
   ],
   "metadata": {}
  },
  {
   "cell_type": "markdown",
   "source": [
    "### 8-2\n",
    "O(N^2) 先頭からi番目までリストの次の要素を見ることを1からN番目の要素まで続ける\n",
    "\n",
    "よって, $O(1 + 2 + \\dots + N) = O(\\frac{N(N+1)}{2}) = O(N^2)$ "
   ],
   "metadata": {}
  },
  {
   "cell_type": "markdown",
   "source": [
    "### 8-3\n",
    "class LinkedListの要素にsizeを加え、insert, eraseのたびに値を適切に上限させる。sizeにアクセスすることはO(1)で実行可能"
   ],
   "metadata": {}
  },
  {
   "cell_type": "markdown",
   "source": [
    "### 8-4\n",
    "ノードvのインデックスを先頭から探し, 探索中常に一つ前のノードを保持しておくようにする。\n",
    "あとはeraseの処理と同様"
   ],
   "metadata": {}
  }
 ],
 "metadata": {
  "orig_nbformat": 4,
  "language_info": {
   "name": "python",
   "version": "3.8.10"
  },
  "kernelspec": {
   "name": "python3",
   "display_name": "Python 3.8.5 64-bit"
  },
  "interpreter": {
   "hash": "31f2aee4e71d21fbe5cf8b01ff0e069b9275f58929596ceb00d14d90e3e16cd6"
  }
 },
 "nbformat": 4,
 "nbformat_minor": 2
}