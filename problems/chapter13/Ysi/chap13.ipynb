{
 "cells": [
  {
   "cell_type": "code",
   "execution_count": 28,
   "source": [
    "# 13-1\n",
    "import sys\n",
    "sys.setrecursionlimit(500*500)\n",
    "\n",
    "N = 5\n",
    "edge = [(1,2), (2, 3), (4, 5)]\n",
    "G = [[] for _ in range(N)]\n",
    "for e in edge:\n",
    "    a, b = e\n",
    "    a -= 1\n",
    "    b -= 1\n",
    "    G[a].append(b)\n",
    "    G[b].append(a)\n",
    "\n",
    "visited = [False]*N\n",
    "def dfs(v):\n",
    "    if visited[v] == True:\n",
    "        return\n",
    "    \n",
    "    visited[v] = True\n",
    "    for u in G[v]:\n",
    "        dfs(u)\n",
    "\n",
    "count = 0\n",
    "for i in range(N):\n",
    "    if visited[i]:\n",
    "        continue\n",
    "    else:\n",
    "        count += 1\n",
    "        dfs(i)\n",
    "\n",
    "print(count)"
   ],
   "outputs": [
    {
     "output_type": "stream",
     "name": "stdout",
     "text": [
      "2\n"
     ]
    }
   ],
   "metadata": {}
  },
  {
   "cell_type": "code",
   "execution_count": 29,
   "source": [
    "# 13-2\n",
    "\n",
    "N = 5\n",
    "edge = [(1,2), (2, 3), (4, 5)]\n",
    "G = [[] for _ in range(N)]\n",
    "for e in edge:\n",
    "    a, b = e\n",
    "    a -= 1\n",
    "    b -= 1\n",
    "    G[a].append(b)\n",
    "    G[b].append(a)\n",
    "\n",
    "\n",
    "from collections import deque\n",
    "Q = deque()\n",
    "Q.append(0)\n",
    "visited = [False]*N\n",
    "visited[0] = True\n",
    "\n",
    "while len(Q) > 0:\n",
    "    v = Q.popleft()\n",
    "    for next_v in G[v]:\n",
    "        if not visited[next_v]:\n",
    "            visited[next_v] = True\n",
    "            Q.append(next_v)\n",
    "\n",
    "if visited[4]:\n",
    "    print(\"Yes\")\n",
    "else:\n",
    "    print(\"No\")"
   ],
   "outputs": [
    {
     "output_type": "stream",
     "name": "stdout",
     "text": [
      "No\n"
     ]
    }
   ],
   "metadata": {}
  },
  {
   "cell_type": "code",
   "execution_count": 8,
   "source": [
    "# 13-3\n",
    "N = 5\n",
    "edge = [(1,2), (2, 3), (2,4), (2, 5), (4, 5)]\n",
    "G = [[] for _ in range(N)]\n",
    "for e in edge:\n",
    "    a, b = e\n",
    "    a -= 1\n",
    "    b -= 1\n",
    "    G[a].append(b)\n",
    "    G[b].append(a)\n",
    "\n",
    "from collections import deque\n",
    "Q = deque()\n",
    "\n",
    "color = [-1]*N\n",
    "is_bipertite = True\n",
    "\n",
    "for i in range(N):\n",
    "    if color[i] == -1:\n",
    "        Q.append(i)\n",
    "        color[i] = 0\n",
    "    while len(Q) > 0:\n",
    "        v = Q.popleft()\n",
    "        for next_v in G[v]:\n",
    "            if color[next_v] != -1:\n",
    "                if color[next_v] == color[v]:\n",
    "                    is_bipertite = False\n",
    "            else:\n",
    "                color[next_v] = 1 - color[v]\n",
    "                Q.append(next_v)\n",
    "\n",
    "if is_bipertite:\n",
    "    print(\"Yes\")\n",
    "else:\n",
    "    print(\"No\")"
   ],
   "outputs": [
    {
     "output_type": "stream",
     "name": "stdout",
     "text": [
      "[0, 1, 0, 0, 0]\n",
      "No\n"
     ]
    }
   ],
   "metadata": {}
  },
  {
   "cell_type": "code",
   "execution_count": 31,
   "source": [
    "# 13-4\n",
    "H, W = 4, 5\n",
    "# dist[3][4] = 9\n",
    "maize =  [\n",
    "    [1, 0, 1, 1, 1],\n",
    "    [1, 0, 1, 1, 1],\n",
    "    [1, 1, 1, 0, 1],\n",
    "    [1, 0, 0, 1, 1]\n",
    "]\n",
    "\n",
    "from collections import deque\n",
    "Q = deque()\n",
    "Q.append((0, 0))\n",
    "dist = [[-1] * W for _ in range(H)]\n",
    "dist[0][0] = 0\n",
    "\n",
    "while len(Q) > 0:\n",
    "    i, j = Q.popleft()\n",
    "    for dx, dy in [(1, 0), (-1, 0), (0, 1), (0, -1)]:\n",
    "        next_i = i + dx\n",
    "        next_j = j + dy\n",
    "        if not ((0 <= next_i < H) and (0 <= next_j < W)):\n",
    "            continue\n",
    "        if maize[next_i][next_j]  == 0:\n",
    "            continue\n",
    "        if dist[next_i][next_j] == -1:\n",
    "            dist[next_i][next_j] = dist[i][j] + 1\n",
    "            Q.append((next_i, next_j))\n",
    "            \n",
    "print(dist[H-1][W-1])"
   ],
   "outputs": [
    {
     "output_type": "stream",
     "name": "stdout",
     "text": [
      "9\n"
     ]
    }
   ],
   "metadata": {}
  },
  {
   "cell_type": "code",
   "execution_count": 34,
   "source": [
    "# 13-5\n",
    "N = 5\n",
    "edge = [(1,2), (2, 3), (2,4), (2, 5), (4, 5)]\n",
    "outdegree = [0]*N\n",
    "G = [[] for _ in range(N)]\n",
    "for e in edge:\n",
    "    a, b = e\n",
    "    a -= 1\n",
    "    b -= 1\n",
    "    G[b].append(a)\n",
    "    outdegree[a] += 1\n",
    "\n",
    "from collections import deque\n",
    "Q = deque()\n",
    "for i in range(N):\n",
    "    if outdegree[i] == 0:\n",
    "        Q.append(i)\n",
    "\n",
    "order = []\n",
    "while len(Q) > 0:\n",
    "    v = Q.popleft()\n",
    "    order.append(v)\n",
    "    \n",
    "    for next_v in G[v]:\n",
    "        outdegree[next_v] -= 1\n",
    "\n",
    "        if outdegree[next_v] == 0:\n",
    "            Q.append(next_v)\n",
    "\n",
    "order.reverse()\n",
    "for v in order:\n",
    "    print(v+1)"
   ],
   "outputs": [
    {
     "output_type": "stream",
     "name": "stdout",
     "text": [
      "1\n",
      "2\n",
      "4\n",
      "5\n",
      "3\n"
     ]
    }
   ],
   "metadata": {}
  },
  {
   "cell_type": "code",
   "execution_count": 50,
   "source": [
    "N = 5\n",
    "edge = [(1,2), (2, 3), (2,4), (5, 2), (4, 5)]\n",
    "G = [[] for _ in range(N)]\n",
    "for e in edge:\n",
    "    a, b = e\n",
    "    a -= 1\n",
    "    b -= 1\n",
    "    G[a].append(b)\n",
    "\n",
    "import sys\n",
    "from collections import deque\n",
    "sys.setrecursionlimit(500*500)\n",
    "visited = [False]*N\n",
    "finished = [False]*N\n",
    "hist = deque()\n",
    "pos = []\n",
    "def dfs(v, p):\n",
    "    visited[v] = True\n",
    "    hist.append(v)\n",
    "    for u in G[v]:\n",
    "        if u == p:\n",
    "            continue\n",
    "        if finished[u]:\n",
    "            continue\n",
    "        if visited[u] and not finished[u]:\n",
    "            pos.append(u)\n",
    "            return\n",
    "\n",
    "        dfs(u, v)\n",
    "\n",
    "        if len(pos)>0:\n",
    "            return\n",
    "    hist.pop()\n",
    "    finished[v] = True\n",
    "    \n",
    "dfs(0, -1)\n",
    "\n",
    "cycle = deque([])\n",
    "while len(hist) > 0:\n",
    "    t = hist[-1]\n",
    "    cycle.appendleft(t+1)\n",
    "    hist.pop()\n",
    "    if t == pos[0]:\n",
    "        break\n",
    "\n",
    "print(*cycle)"
   ],
   "outputs": [
    {
     "output_type": "stream",
     "name": "stdout",
     "text": [
      "2 4 5\n"
     ]
    }
   ],
   "metadata": {}
  },
  {
   "cell_type": "code",
   "execution_count": null,
   "source": [],
   "outputs": [],
   "metadata": {}
  }
 ],
 "metadata": {
  "orig_nbformat": 4,
  "language_info": {
   "name": "python",
   "version": "3.7.3",
   "mimetype": "text/x-python",
   "codemirror_mode": {
    "name": "ipython",
    "version": 3
   },
   "pygments_lexer": "ipython3",
   "nbconvert_exporter": "python",
   "file_extension": ".py"
  },
  "kernelspec": {
   "name": "python3",
   "display_name": "Python 3.7.3 64-bit"
  },
  "interpreter": {
   "hash": "31f2aee4e71d21fbe5cf8b01ff0e069b9275f58929596ceb00d14d90e3e16cd6"
  }
 },
 "nbformat": 4,
 "nbformat_minor": 2
}