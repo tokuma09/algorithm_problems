{
 "cells": [
  {
   "cell_type": "code",
   "execution_count": 1,
   "source": [
    "### 12.1\n",
    "A = [1, 3, 4, 6, 5]\n",
    "[i[0] for i in sorted(enumerate(A), key=lambda x:x[1])]"
   ],
   "outputs": [
    {
     "output_type": "execute_result",
     "data": {
      "text/plain": [
       "[0, 1, 2, 4, 3]"
      ]
     },
     "metadata": {},
     "execution_count": 1
    }
   ],
   "metadata": {}
  },
  {
   "cell_type": "code",
   "execution_count": 2,
   "source": [
    "### 12.3\n",
    "N, K = 7, 3\n",
    "a = [1, 3, 7, 8, 2, 6, 5]\n",
    "\n",
    "import heapq\n",
    "res = []\n",
    "heapq.heapify(res)\n",
    "\n",
    "\n",
    "for i in range(K):\n",
    "    heapq.heappush(res, -a[i])\n",
    "\n",
    "print(-res[0])\n",
    "for i in range(K, N):\n",
    "    heapq.heappush(res, -a[i])\n",
    "    heapq.heappop(res)\n",
    "    print(-res[0])"
   ],
   "outputs": [
    {
     "output_type": "stream",
     "name": "stdout",
     "text": [
      "7\n",
      "7\n",
      "3\n",
      "3\n",
      "3\n"
     ]
    }
   ],
   "metadata": {}
  },
  {
   "cell_type": "markdown",
   "source": [
    "### 12.4\n",
    "- $T(n) = a*T(n/b) + f(n)$であるとき, $T(n) = \\Theta(n^{log_ba}) + \\sum_{j = 0}^{log_bn - 1} * a^j f(n/b^j)$\n",
    "\n",
    "- $g(n) = \\sum_{j = 0}^{log_bn - 1}  a^j * f(n/b^j)$ としたとき, 以下を示す.\n",
    "\n",
    "$$\\exists c < 1, N \\ \\forall n \\geq N \\ a*f(n/b) \\leq c * f(n) \\Rightarrow g(n) = \\Theta(f(n))$$\n",
    "\n",
    "- 十分大きなnで, $a*f(n/b) \\leq c * f(n)$であるから, 以下のように不等式評価できる.\n",
    "$$g(n) = \\sum_{j = 0}^{log_bn - 1}  a^j * f(n/b^j) \\leq \\sum_{j = 0}^{log_bn - 1} c^j f(n) + O(1) \\leq f(n)\\sum_{j = 0}^{\\infty} c^j + O(1) = f(n) * \\frac{1}{1-c} + O(1) = O(f(n)) $$\n",
    "\n",
    "- $a=b=2$より, $T(n) = \\Theta(n) + g(n)$であり, $f(n) = d*n^2$ や$f(n) = d*nlog(n)$ は\b $\\exists c < 1, N \\ \\forall n \\geq N \\ a*f(n/b) \\leq c * f(n)$を満たす.\n",
    "- よって, $f(n) = O(n^2)$ならば$T(n) = O(n^2)$, $f(n) = O(nlog(n))$ならば$T(n) = O(nlog(n))$"
   ],
   "metadata": {}
  },
  {
   "cell_type": "code",
   "execution_count": 9,
   "source": [
    "### 12.5\n",
    "a = [1, 3, 7, 8, 2, 6, 5, 10, 12, 14, 15]\n",
    "import sys\n",
    "sys.setrecursionlimit(500*500)\n",
    "\n",
    "def med(a):\n",
    "    a.sort()\n",
    "    return a[len(a)//2]\n",
    "\n",
    "def rec(a, k):\n",
    "    length = len(a)\n",
    "    if length <= 10:\n",
    "        a.sort()\n",
    "        return a[k]\n",
    "\n",
    "    a2 = []\n",
    "    for i in range(0, length, 5):\n",
    "        if length - i < 5:\n",
    "            med5 = med(a[i:length])\n",
    "        else:\n",
    "            med5 = med(a[i:i+5])\n",
    "        a2.append(med5)\n",
    "\n",
    "    m = rec(a2, length//10)\n",
    "\n",
    "    p = []\n",
    "    q = []\n",
    "    r = []\n",
    "    for i in range(length):\n",
    "        if a[i] < m:\n",
    "            p.append(a[i])\n",
    "        elif a[i] == m:\n",
    "            q.append(a[i])\n",
    "        else:\n",
    "            r.append(a[i])\n",
    "    \n",
    "    lenp = len(p)\n",
    "    lenq = len(q)\n",
    "    if k <= lenp:\n",
    "        return rec(p, k)\n",
    "    elif k <= lenp + lenq:\n",
    "        return m\n",
    "    else:\n",
    "        return rec(r, k - lenp - lenq)\n",
    "\n",
    "rec(a, 10)\n",
    "            \n",
    "            "
   ],
   "outputs": [
    {
     "output_type": "execute_result",
     "data": {
      "text/plain": [
       "15"
      ]
     },
     "metadata": {},
     "execution_count": 9
    }
   ],
   "metadata": {}
  },
  {
   "cell_type": "code",
   "execution_count": null,
   "source": [],
   "outputs": [],
   "metadata": {}
  }
 ],
 "metadata": {
  "orig_nbformat": 4,
  "language_info": {
   "name": "python",
   "version": "3.8.10",
   "mimetype": "text/x-python",
   "codemirror_mode": {
    "name": "ipython",
    "version": 3
   },
   "pygments_lexer": "ipython3",
   "nbconvert_exporter": "python",
   "file_extension": ".py"
  },
  "kernelspec": {
   "name": "python3",
   "display_name": "Python 3.8.10 64-bit"
  },
  "interpreter": {
   "hash": "31f2aee4e71d21fbe5cf8b01ff0e069b9275f58929596ceb00d14d90e3e16cd6"
  }
 },
 "nbformat": 4,
 "nbformat_minor": 2
}